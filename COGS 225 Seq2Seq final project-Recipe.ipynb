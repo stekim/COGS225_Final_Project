{
 "cells": [
  {
   "cell_type": "code",
   "execution_count": 1,
   "metadata": {
    "scrolled": true
   },
   "outputs": [
    {
     "name": "stdout",
     "output_type": "stream",
     "text": [
      "Requirement already satisfied: tensorflow_hub in /home/stk002/.local/lib/python3.7/site-packages (0.8.0)\n",
      "Requirement already satisfied: protobuf>=3.8.0 in /opt/conda/lib/python3.7/site-packages (from tensorflow_hub) (3.9.1)\n",
      "Requirement already satisfied: numpy>=1.12.0 in /home/stk002/.local/lib/python3.7/site-packages (from tensorflow_hub) (1.18.4)\n",
      "Requirement already satisfied: six>=1.12.0 in /home/stk002/.local/lib/python3.7/site-packages (from tensorflow_hub) (1.14.0)\n",
      "Requirement already satisfied: setuptools in /opt/conda/lib/python3.7/site-packages (from protobuf>=3.8.0->tensorflow_hub) (41.0.1)\n"
     ]
    }
   ],
   "source": [
    "!pip install --user -q ktext\n",
    "!pip install --user  -q annoy\n",
    "!pip install --user  tensorflow_hub"
   ]
  },
  {
   "cell_type": "code",
   "execution_count": 1,
   "metadata": {
    "scrolled": true
   },
   "outputs": [
    {
     "name": "stderr",
     "output_type": "stream",
     "text": [
      "/opt/conda/lib/python3.7/site-packages/tensorflow/python/framework/dtypes.py:516: FutureWarning: Passing (type, 1) or '1type' as a synonym of type is deprecated; in a future version of numpy, it will be understood as (type, (1,)) / '(1,)type'.\n",
      "  _np_qint8 = np.dtype([(\"qint8\", np.int8, 1)])\n",
      "/opt/conda/lib/python3.7/site-packages/tensorflow/python/framework/dtypes.py:517: FutureWarning: Passing (type, 1) or '1type' as a synonym of type is deprecated; in a future version of numpy, it will be understood as (type, (1,)) / '(1,)type'.\n",
      "  _np_quint8 = np.dtype([(\"quint8\", np.uint8, 1)])\n",
      "/opt/conda/lib/python3.7/site-packages/tensorflow/python/framework/dtypes.py:518: FutureWarning: Passing (type, 1) or '1type' as a synonym of type is deprecated; in a future version of numpy, it will be understood as (type, (1,)) / '(1,)type'.\n",
      "  _np_qint16 = np.dtype([(\"qint16\", np.int16, 1)])\n",
      "/opt/conda/lib/python3.7/site-packages/tensorflow/python/framework/dtypes.py:519: FutureWarning: Passing (type, 1) or '1type' as a synonym of type is deprecated; in a future version of numpy, it will be understood as (type, (1,)) / '(1,)type'.\n",
      "  _np_quint16 = np.dtype([(\"quint16\", np.uint16, 1)])\n",
      "/opt/conda/lib/python3.7/site-packages/tensorflow/python/framework/dtypes.py:520: FutureWarning: Passing (type, 1) or '1type' as a synonym of type is deprecated; in a future version of numpy, it will be understood as (type, (1,)) / '(1,)type'.\n",
      "  _np_qint32 = np.dtype([(\"qint32\", np.int32, 1)])\n",
      "/opt/conda/lib/python3.7/site-packages/tensorflow/python/framework/dtypes.py:525: FutureWarning: Passing (type, 1) or '1type' as a synonym of type is deprecated; in a future version of numpy, it will be understood as (type, (1,)) / '(1,)type'.\n",
      "  np_resource = np.dtype([(\"resource\", np.ubyte, 1)])\n",
      "/opt/conda/lib/python3.7/site-packages/tensorboard/compat/tensorflow_stub/dtypes.py:541: FutureWarning: Passing (type, 1) or '1type' as a synonym of type is deprecated; in a future version of numpy, it will be understood as (type, (1,)) / '(1,)type'.\n",
      "  _np_qint8 = np.dtype([(\"qint8\", np.int8, 1)])\n",
      "/opt/conda/lib/python3.7/site-packages/tensorboard/compat/tensorflow_stub/dtypes.py:542: FutureWarning: Passing (type, 1) or '1type' as a synonym of type is deprecated; in a future version of numpy, it will be understood as (type, (1,)) / '(1,)type'.\n",
      "  _np_quint8 = np.dtype([(\"quint8\", np.uint8, 1)])\n",
      "/opt/conda/lib/python3.7/site-packages/tensorboard/compat/tensorflow_stub/dtypes.py:543: FutureWarning: Passing (type, 1) or '1type' as a synonym of type is deprecated; in a future version of numpy, it will be understood as (type, (1,)) / '(1,)type'.\n",
      "  _np_qint16 = np.dtype([(\"qint16\", np.int16, 1)])\n",
      "/opt/conda/lib/python3.7/site-packages/tensorboard/compat/tensorflow_stub/dtypes.py:544: FutureWarning: Passing (type, 1) or '1type' as a synonym of type is deprecated; in a future version of numpy, it will be understood as (type, (1,)) / '(1,)type'.\n",
      "  _np_quint16 = np.dtype([(\"quint16\", np.uint16, 1)])\n",
      "/opt/conda/lib/python3.7/site-packages/tensorboard/compat/tensorflow_stub/dtypes.py:545: FutureWarning: Passing (type, 1) or '1type' as a synonym of type is deprecated; in a future version of numpy, it will be understood as (type, (1,)) / '(1,)type'.\n",
      "  _np_qint32 = np.dtype([(\"qint32\", np.int32, 1)])\n",
      "/opt/conda/lib/python3.7/site-packages/tensorboard/compat/tensorflow_stub/dtypes.py:550: FutureWarning: Passing (type, 1) or '1type' as a synonym of type is deprecated; in a future version of numpy, it will be understood as (type, (1,)) / '(1,)type'.\n",
      "  np_resource = np.dtype([(\"resource\", np.ubyte, 1)])\n",
      "Using TensorFlow backend.\n",
      "/opt/conda/lib/python3.7/site-packages/sklearn/externals/joblib/__init__.py:15: DeprecationWarning: sklearn.externals.joblib is deprecated in 0.21 and will be removed in 0.23. Please import this functionality directly from joblib, which can be installed with: pip install joblib. If this warning is raised when loading pickled models, you may need to re-serialize those models with scikit-learn 0.21+.\n",
      "  warnings.warn(msg, category=DeprecationWarning)\n"
     ]
    }
   ],
   "source": [
    "import json\n",
    "from urllib.request import urlopen\n",
    "\n",
    "from annoy import AnnoyIndex\n",
    "from tensorflow.python.keras.layers import Input, Dense, LSTM, GRU, Embedding, Lambda, BatchNormalization\n",
    "from tensorflow.python.keras.models import load_model, Model\n",
    "from tensorflow.python.keras import optimizers\n",
    "from tensorflow.python.keras.preprocessing.sequence import pad_sequences\n",
    "from keras.utils import get_file, to_categorical\n",
    "from ktext.preprocess import processor\n",
    "import numpy as np\n",
    "import pandas as pd\n",
    "import random\n",
    "from tqdm import tqdm"
   ]
  },
  {
   "cell_type": "code",
   "execution_count": 3,
   "metadata": {
    "scrolled": true
   },
   "outputs": [],
   "source": [
    "# get training data\n",
    "\n",
    "# data = pd.read_csv('final_recipes.csv')\n",
    "data = pd.read_csv('final_two.csv')\n",
    "# data = data.replace(to_replace= [\"[\",\"'\",\"]\"], value= '', regex=True)\n"
   ]
  },
  {
   "cell_type": "code",
   "execution_count": 4,
   "metadata": {},
   "outputs": [],
   "source": [
    "data.dropna(inplace=True)\n",
    "data['ingredients'] = data['ingredients'].apply(lambda x: x.replace(\"[\",\"\").replace(\"'\",\"\").replace(\"]\",\"\").replace(\" , \",\"\").replace(\",,,,,,\",\"\").replace(\",,\",\"\").replace(\",,,\",\"\").replace(\",,,,\",\"\").replace(\",,,,,\",\"\"))\n",
    "data['name'] = data['name'].apply(lambda x: x.replace('  ',' ').replace('  ',' '))"
   ]
  },
  {
   "cell_type": "code",
   "execution_count": 6,
   "metadata": {},
   "outputs": [
    {
     "data": {
      "text/plain": [
       "0              arriba baked winter squash mexican style\n",
       "1                       a bit different breakfast pizza\n",
       "2                              all in the kitchen chili\n",
       "3                                     alouette potatoes\n",
       "4                      amish tomato ketchup for canning\n",
       "5                                apple a day milk shake\n",
       "6                                  aww marinated olives\n",
       "7                         backyard style barbecued ribs\n",
       "8                               bananas 4 ice cream pie\n",
       "9                                beat this banana bread\n",
       "10                           berry good sandwich spread\n",
       "11                         better than sex strawberries\n",
       "12                       better then bush s baked beans\n",
       "13                            boat house collard greens\n",
       "14                               calm your nerves tonic\n",
       "15                       chicken lickin good pork chops\n",
       "16                                       chile rellenos\n",
       "17                                        chinese candy\n",
       "18                                    chinese chop suey\n",
       "19                      cream of cauliflower soup vegan\n",
       "20                                cream of spinach soup\n",
       "21                          cream of spinach soup vegan\n",
       "22                               crispy crunchy chicken\n",
       "23                           deep fried dessert thingys\n",
       "24                       easiest ever hollandaise sauce\n",
       "25                      emotional balance spice mixture\n",
       "26                           fool the meat eaters chili\n",
       "27                                 forgotten minestrone\n",
       "28                                       fried potatoes\n",
       "29                 george s at the cove black bean soup\n",
       "30                           get the sensation brownies\n",
       "31                        global gourmet taco casserole\n",
       "32                                  grilled ranch bread\n",
       "33                              grilled venison burgers\n",
       "34                    healthy for them yogurt popsicles\n",
       "35                   homemade vegetable soup from a can\n",
       "36    how i got my family to eat spinach spinach cas...\n",
       "37     i can t believe it s low fat creamy potato salad\n",
       "38                         i can t believe it s spinach\n",
       "39          i don t feel like cooking tonight casserole\n",
       "Name: name, dtype: object"
      ]
     },
     "execution_count": 6,
     "metadata": {},
     "output_type": "execute_result"
    }
   ],
   "source": [
    "data['name'].head(40)"
   ]
  },
  {
   "cell_type": "code",
   "execution_count": null,
   "metadata": {},
   "outputs": [],
   "source": []
  },
  {
   "cell_type": "code",
   "execution_count": 6,
   "metadata": {},
   "outputs": [],
   "source": [
    "from sklearn.model_selection import train_test_split\n",
    "\n",
    "#target - recipe name\n",
    "#source = ingredients\n",
    "source_docs = data['ingredients'].tolist()\n",
    "target_docs = data['name'].tolist()\n",
    "\n",
    "# source_docs_t = data['ingredients'].sample(2000, random_state=7).tolist()\n",
    "# target_docs_t = data['name'].sample(2000, random_state=7).tolist()\n",
    "\n",
    "train_source_docs, test_source_docs, train_target_docs, test_target_docs = train_test_split(source_docs, target_docs, test_size=0.33, random_state=42)\n",
    "\n",
    "for i in range(len(train_source_docs)):\n",
    "    train_source_docs[i] = train_source_docs[i].replace(\"'\",\"\").replace(\"  \",\" \").replace(\"[\",\"\").replace(\"]\",\"\").replace(\" ,\",\"\")\n",
    "\n",
    "test_docs = pd.Series(test_target_docs).sample(10000).tolist()\n",
    "\n"
   ]
  },
  {
   "cell_type": "code",
   "execution_count": null,
   "metadata": {},
   "outputs": [],
   "source": []
  },
  {
   "cell_type": "code",
   "execution_count": 7,
   "metadata": {},
   "outputs": [],
   "source": [
    "# len(test_docs)\n",
    "# test_docs\n",
    "# train_source_docs\n",
    "# train_target_docs"
   ]
  },
  {
   "cell_type": "code",
   "execution_count": 8,
   "metadata": {
    "scrolled": true
   },
   "outputs": [
    {
     "name": "stderr",
     "output_type": "stream",
     "text": [
      "WARNING:root:....tokenizing data\n",
      "WARNING:root:Setting maximum document length to 10 based upon heuristic of 0.95 percentile.\n",
      " See full histogram by insepecting the `document_length_stats` attribute.\n",
      "WARNING:root:(1/2) done. 5 sec\n",
      "WARNING:root:....building corpus\n",
      "WARNING:root:(2/2) done. 0 sec\n",
      "WARNING:root:Finished parsing 231,636 documents.\n",
      "WARNING:root:...fit is finished, beginning transform\n",
      "WARNING:root:...padding data\n",
      "WARNING:root:done. 1 sec\n"
     ]
    }
   ],
   "source": [
    "#processor adds padding to all text entries in order to make all inputs the same length\n",
    "proc = processor(heuristic_pct_padding=.95, keep_n=10000)\n",
    "vecs = proc.fit_transform(target_docs)\n",
    "\n"
   ]
  },
  {
   "cell_type": "code",
   "execution_count": 9,
   "metadata": {
    "scrolled": true
   },
   "outputs": [],
   "source": [
    "# proc.token_count_pandas().head(20)"
   ]
  },
  {
   "cell_type": "code",
   "execution_count": 10,
   "metadata": {},
   "outputs": [
    {
     "data": {
      "text/html": [
       "<div>\n",
       "<style scoped>\n",
       "    .dataframe tbody tr th:only-of-type {\n",
       "        vertical-align: middle;\n",
       "    }\n",
       "\n",
       "    .dataframe tbody tr th {\n",
       "        vertical-align: top;\n",
       "    }\n",
       "\n",
       "    .dataframe thead th {\n",
       "        text-align: right;\n",
       "    }\n",
       "</style>\n",
       "<table border=\"1\" class=\"dataframe\">\n",
       "  <thead>\n",
       "    <tr style=\"text-align: right;\">\n",
       "      <th></th>\n",
       "      <th>bin</th>\n",
       "      <th>doc_count</th>\n",
       "      <th>cumsum_pct</th>\n",
       "    </tr>\n",
       "  </thead>\n",
       "  <tbody>\n",
       "    <tr>\n",
       "      <th>1</th>\n",
       "      <td>0</td>\n",
       "      <td>25419</td>\n",
       "      <td>0.109737</td>\n",
       "    </tr>\n",
       "    <tr>\n",
       "      <th>0</th>\n",
       "      <td>5</td>\n",
       "      <td>191905</td>\n",
       "      <td>0.938213</td>\n",
       "    </tr>\n",
       "    <tr>\n",
       "      <th>2</th>\n",
       "      <td>10</td>\n",
       "      <td>14253</td>\n",
       "      <td>0.999745</td>\n",
       "    </tr>\n",
       "    <tr>\n",
       "      <th>3</th>\n",
       "      <td>15</td>\n",
       "      <td>59</td>\n",
       "      <td>1.000000</td>\n",
       "    </tr>\n",
       "  </tbody>\n",
       "</table>\n",
       "</div>"
      ],
      "text/plain": [
       "   bin  doc_count  cumsum_pct\n",
       "1    0      25419    0.109737\n",
       "0    5     191905    0.938213\n",
       "2   10      14253    0.999745\n",
       "3   15         59    1.000000"
      ]
     },
     "execution_count": 10,
     "metadata": {},
     "output_type": "execute_result"
    }
   ],
   "source": [
    "proc.document_length_stats"
   ]
  },
  {
   "cell_type": "code",
   "execution_count": 11,
   "metadata": {},
   "outputs": [],
   "source": [
    "assert vecs.shape[0] == len(target_docs)"
   ]
  },
  {
   "cell_type": "code",
   "execution_count": 12,
   "metadata": {},
   "outputs": [
    {
     "name": "stdout",
     "output_type": "stream",
     "text": [
      "original list:  arriba baked winter squash mexican style\n",
      "tokenized list:  [   0    0    0    0 7897   22  587  121  106   45]\n"
     ]
    }
   ],
   "source": [
    "print('original list: ', target_docs[0])\n",
    "print('tokenized list: ', vecs[0])"
   ]
  },
  {
   "cell_type": "code",
   "execution_count": 13,
   "metadata": {},
   "outputs": [
    {
     "name": "stdout",
     "output_type": "stream",
     "text": [
      "vocab size:  10002\n",
      "max length allowed for documents:  10\n"
     ]
    }
   ],
   "source": [
    "vocab_size = max(proc.id2token.keys()) + 1\n",
    "max_length = proc.padding_maxlen\n",
    "\n",
    "print('vocab size: ', vocab_size)\n",
    "print('max length allowed for documents: ', max_length)"
   ]
  },
  {
   "cell_type": "code",
   "execution_count": 14,
   "metadata": {},
   "outputs": [
    {
     "name": "stderr",
     "output_type": "stream",
     "text": [
      "100%|██████████| 231636/231636 [00:00<00:00, 262253.11it/s]\n"
     ]
    }
   ],
   "source": [
    "sequences = []\n",
    "for arr in tqdm(vecs):\n",
    "    non_zero = (arr != 0).argmax()\n",
    "    for i in range(non_zero, len(arr)):\n",
    "        sequences.append(arr[:i+1])\n",
    "sequences = pad_sequences(sequences, maxlen=max_length, padding='pre')\n",
    "sequences = np.array(sequences)\n",
    "X, y = sequences[:,:-1], sequences[:,-1]\n",
    "# y = to_categorical(y, num_classes=vocab_size)"
   ]
  },
  {
   "cell_type": "code",
   "execution_count": 15,
   "metadata": {},
   "outputs": [
    {
     "name": "stdout",
     "output_type": "stream",
     "text": [
      "WARNING:tensorflow:From /opt/conda/lib/python3.7/site-packages/tensorflow/python/keras/initializers.py:119: calling RandomUniform.__init__ (from tensorflow.python.ops.init_ops) with dtype is deprecated and will be removed in a future version.\n",
      "Instructions for updating:\n",
      "Call initializer instance with the dtype argument instead of passing it to the constructor\n"
     ]
    },
    {
     "name": "stderr",
     "output_type": "stream",
     "text": [
      "WARNING:tensorflow:From /opt/conda/lib/python3.7/site-packages/tensorflow/python/keras/initializers.py:119: calling RandomUniform.__init__ (from tensorflow.python.ops.init_ops) with dtype is deprecated and will be removed in a future version.\n",
      "Instructions for updating:\n",
      "Call initializer instance with the dtype argument instead of passing it to the constructor\n"
     ]
    },
    {
     "name": "stdout",
     "output_type": "stream",
     "text": [
      "WARNING:tensorflow:From /opt/conda/lib/python3.7/site-packages/tensorflow/python/ops/init_ops.py:1251: calling VarianceScaling.__init__ (from tensorflow.python.ops.init_ops) with dtype is deprecated and will be removed in a future version.\n",
      "Instructions for updating:\n",
      "Call initializer instance with the dtype argument instead of passing it to the constructor\n"
     ]
    },
    {
     "name": "stderr",
     "output_type": "stream",
     "text": [
      "WARNING:tensorflow:From /opt/conda/lib/python3.7/site-packages/tensorflow/python/ops/init_ops.py:1251: calling VarianceScaling.__init__ (from tensorflow.python.ops.init_ops) with dtype is deprecated and will be removed in a future version.\n",
      "Instructions for updating:\n",
      "Call initializer instance with the dtype argument instead of passing it to the constructor\n"
     ]
    },
    {
     "name": "stdout",
     "output_type": "stream",
     "text": [
      "Model: \"model\"\n",
      "_________________________________________________________________\n",
      "Layer (type)                 Output Shape              Param #   \n",
      "=================================================================\n",
      "input_1 (InputLayer)         [(None, 9)]               0         \n",
      "_________________________________________________________________\n",
      "embedding (Embedding)        (None, 9, 256)            2560512   \n",
      "_________________________________________________________________\n",
      "lstm (LSTM)                  (None, 9, 256)            525312    \n",
      "_________________________________________________________________\n",
      "lambda (Lambda)              (None, 256)               0         \n",
      "_________________________________________________________________\n",
      "dense (Dense)                (None, 10002)             2570514   \n",
      "=================================================================\n",
      "Total params: 5,656,338\n",
      "Trainable params: 5,656,338\n",
      "Non-trainable params: 0\n",
      "_________________________________________________________________\n"
     ]
    }
   ],
   "source": [
    "i = Input(shape=(max_length-1,))\n",
    "x = Embedding(vocab_size, 256, input_length=max_length-1)(i)\n",
    "x = LSTM(256, return_sequences=True)(x)\n",
    "last_timestep = Lambda(lambda x: x[:, -1, :])(x)\n",
    "last_timestep = Dense(vocab_size, activation='softmax')(last_timestep)\n",
    "model = Model(i, last_timestep)\n",
    "model.summary()"
   ]
  },
  {
   "cell_type": "code",
   "execution_count": 16,
   "metadata": {
    "scrolled": true
   },
   "outputs": [
    {
     "name": "stdout",
     "output_type": "stream",
     "text": [
      "Train on 809378 samples, validate on 202345 samples\n",
      "WARNING:tensorflow:From /opt/conda/lib/python3.7/site-packages/tensorflow/python/ops/math_grad.py:1250: add_dispatch_support.<locals>.wrapper (from tensorflow.python.ops.array_ops) is deprecated and will be removed in a future version.\n",
      "Instructions for updating:\n",
      "Use tf.where in 2.0, which has the same broadcast rule as np.where\n"
     ]
    },
    {
     "name": "stderr",
     "output_type": "stream",
     "text": [
      "WARNING:tensorflow:From /opt/conda/lib/python3.7/site-packages/tensorflow/python/ops/math_grad.py:1250: add_dispatch_support.<locals>.wrapper (from tensorflow.python.ops.array_ops) is deprecated and will be removed in a future version.\n",
      "Instructions for updating:\n",
      "Use tf.where in 2.0, which has the same broadcast rule as np.where\n"
     ]
    },
    {
     "name": "stdout",
     "output_type": "stream",
     "text": [
      "Epoch 1/15\n",
      "809378/809378 [==============================] - 211s 260us/sample - loss: 5.8571 - acc: 0.1316 - val_loss: 6.2881 - val_acc: 0.1648\n",
      "Epoch 2/15\n",
      "809378/809378 [==============================] - 209s 258us/sample - loss: 5.0931 - acc: 0.1927 - val_loss: 6.2245 - val_acc: 0.1837\n",
      "Epoch 3/15\n",
      "809378/809378 [==============================] - 207s 256us/sample - loss: 4.8412 - acc: 0.2079 - val_loss: 6.3688 - val_acc: 0.1890\n",
      "Epoch 4/15\n",
      "809378/809378 [==============================] - 206s 254us/sample - loss: 4.6768 - acc: 0.2177 - val_loss: 6.4310 - val_acc: 0.1901\n",
      "Epoch 5/15\n",
      "809378/809378 [==============================] - 203s 251us/sample - loss: 4.5494 - acc: 0.2264 - val_loss: 6.5481 - val_acc: 0.1886\n",
      "Epoch 6/15\n",
      "809378/809378 [==============================] - 203s 250us/sample - loss: 4.4432 - acc: 0.2356 - val_loss: 6.5762 - val_acc: 0.1869\n",
      "Epoch 7/15\n",
      "809378/809378 [==============================] - 206s 255us/sample - loss: 4.3516 - acc: 0.2441 - val_loss: 6.7245 - val_acc: 0.1859\n",
      "Epoch 8/15\n",
      "809378/809378 [==============================] - 204s 253us/sample - loss: 4.2708 - acc: 0.2533 - val_loss: 6.7758 - val_acc: 0.1844\n",
      "Epoch 9/15\n",
      "809378/809378 [==============================] - 204s 252us/sample - loss: 4.1983 - acc: 0.2615 - val_loss: 6.8996 - val_acc: 0.1790\n",
      "Epoch 10/15\n",
      "809378/809378 [==============================] - 205s 254us/sample - loss: 4.1340 - acc: 0.2694 - val_loss: 6.9787 - val_acc: 0.1796\n",
      "Epoch 11/15\n",
      "809378/809378 [==============================] - 205s 253us/sample - loss: 4.0761 - acc: 0.2772 - val_loss: 7.0446 - val_acc: 0.1783\n",
      "Epoch 12/15\n",
      "809378/809378 [==============================] - 205s 253us/sample - loss: 4.0239 - acc: 0.2839 - val_loss: 7.2219 - val_acc: 0.1753\n",
      "Epoch 13/15\n",
      "809378/809378 [==============================] - 205s 253us/sample - loss: 3.9767 - acc: 0.2910 - val_loss: 7.1858 - val_acc: 0.1717\n",
      "Epoch 14/15\n",
      "809378/809378 [==============================] - 205s 254us/sample - loss: 3.9339 - acc: 0.2970 - val_loss: 7.2173 - val_acc: 0.1697\n",
      "Epoch 15/15\n",
      "809378/809378 [==============================] - 203s 251us/sample - loss: 3.8956 - acc: 0.3029 - val_loss: 7.3810 - val_acc: 0.1698\n"
     ]
    }
   ],
   "source": [
    "model.compile(loss='sparse_categorical_crossentropy', optimizer='adam', metrics=['accuracy'])\n",
    "history = model.fit(X, y, epochs=15, batch_size=256, validation_split=0.2)"
   ]
  },
  {
   "cell_type": "code",
   "execution_count": 17,
   "metadata": {},
   "outputs": [
    {
     "data": {
      "image/png": "[encoded data removed]",
      "text/plain": [
       "<Figure size 432x288 with 1 Axes>"
      ]
     },
     "metadata": {
      "needs_background": "light"
     },
     "output_type": "display_data"
    }
   ],
   "source": [
    "from matplotlib import pyplot as plt\n",
    "plt.plot(history.history['acc'])\n",
    "plt.plot(history.history['val_acc'])\n",
    "plt.title('model accuracy')\n",
    "plt.ylabel('accuracy')\n",
    "plt.xlabel('epoch')\n",
    "plt.legend(['train', 'val'], loc='upper left')\n",
    "plt.show()"
   ]
  },
  {
   "cell_type": "code",
   "execution_count": 18,
   "metadata": {},
   "outputs": [],
   "source": [
    "def generate_seq(model, proc, n_words, seed_text):\n",
    "    in_text = seed_text\n",
    "    for _ in range(n_words):\n",
    "        vec = proc.transform([in_text])[:,1:]\n",
    "        index = np.argmax(model.predict(vec, verbose=0), axis=1)[0]\n",
    "        out_word = ''\n",
    "        if index == 1:\n",
    "            out_word = '_unk_'\n",
    "        else:\n",
    "            out_word = proc.id2token[index]\n",
    "        in_text += ' ' + out_word\n",
    "    return in_text"
   ]
  },
  {
   "cell_type": "code",
   "execution_count": 19,
   "metadata": {},
   "outputs": [
    {
     "data": {
      "text/plain": [
       "'cold cucumber salad with yogurt dressing and lemon dressing number ww'"
      ]
     },
     "execution_count": 19,
     "metadata": {},
     "output_type": "execute_result"
    }
   ],
   "source": [
    "generate_seq(model, proc, max_length, 'cold')"
   ]
  },
  {
   "cell_type": "code",
   "execution_count": null,
   "metadata": {},
   "outputs": [],
   "source": []
  },
  {
   "cell_type": "code",
   "execution_count": 20,
   "metadata": {},
   "outputs": [],
   "source": [
    "embedding_model = Model(inputs=model.inputs, outputs=model.layers[-3].output)\n",
    "import tensorflow as tf\n",
    "# import tensorflow_hub as hub\n",
    "\n",
    "#using goolge embeddings\n",
    "# embed = hub.load(\"https://tfhub.dev/google/universal-sentence-encoder/4\")\n"
   ]
  },
  {
   "cell_type": "code",
   "execution_count": 21,
   "metadata": {},
   "outputs": [],
   "source": [
    "# embedding_model = embed(Model(inputs=model.inputs, outputs=model.layers[-3].output))"
   ]
  },
  {
   "cell_type": "code",
   "execution_count": 22,
   "metadata": {},
   "outputs": [
    {
     "name": "stdout",
     "output_type": "stream",
     "text": [
      "input sequence:  baked fries \n",
      "\n",
      "hidden states:\n",
      "\n"
     ]
    },
    {
     "data": {
      "text/plain": [
       "array([[[ 0.0000000e+00, -1.6753142e-01,  0.0000000e+00, ...,\n",
       "          8.4305227e-02,  0.0000000e+00, -3.9180142e-01],\n",
       "        [ 0.0000000e+00, -0.0000000e+00,  0.0000000e+00, ...,\n",
       "          1.1257352e-01,  0.0000000e+00, -5.2518266e-01],\n",
       "        [ 6.0072890e-03, -0.0000000e+00,  0.0000000e+00, ...,\n",
       "          0.0000000e+00,  8.3889849e-03, -1.6317239e-01],\n",
       "        ...,\n",
       "        [ 4.3171219e-04, -0.0000000e+00,  0.0000000e+00, ...,\n",
       "          0.0000000e+00,  0.0000000e+00, -0.0000000e+00],\n",
       "        [-0.0000000e+00, -1.7035214e-02,  0.0000000e+00, ...,\n",
       "          8.9776851e-02, -4.4845566e-01, -6.7541851e-03],\n",
       "        [-7.6158559e-01, -0.0000000e+00, -0.0000000e+00, ...,\n",
       "          6.4579231e-01,  1.5644409e-01, -0.0000000e+00]]], dtype=float32)"
      ]
     },
     "execution_count": 22,
     "metadata": {},
     "output_type": "execute_result"
    }
   ],
   "source": [
    "input_sequence = test_docs[random.randint(0, len(test_docs))]\n",
    "print('input sequence: ', input_sequence, '\\n\\nhidden states:\\n')\n",
    "vec = proc.transform([input_sequence])[:,1:]\n",
    "embedding_model.predict(vec)"
   ]
  },
  {
   "cell_type": "code",
   "execution_count": 23,
   "metadata": {},
   "outputs": [],
   "source": [
    "test_vecs = proc.transform(test_docs)"
   ]
  },
  {
   "cell_type": "code",
   "execution_count": 24,
   "metadata": {},
   "outputs": [],
   "source": [
    "hidden_states = embedding_model.predict(test_vecs[:, 1:])"
   ]
  },
  {
   "cell_type": "code",
   "execution_count": 25,
   "metadata": {},
   "outputs": [],
   "source": [
    "mean_vecs = np.mean(hidden_states, axis=1)\n",
    "max_vecs = np.max(hidden_states, axis=1)\n",
    "sum_vecs = np.sum(hidden_states, axis=1)"
   ]
  },
  {
   "cell_type": "code",
   "execution_count": 26,
   "metadata": {},
   "outputs": [
    {
     "name": "stderr",
     "output_type": "stream",
     "text": [
      "/opt/conda/lib/python3.7/site-packages/ipykernel_launcher.py:2: FutureWarning: The default argument for metric will be removed in future version of Annoy. Please pass metric='angular' explicitly.\n",
      "  \n"
     ]
    },
    {
     "data": {
      "text/plain": [
       "True"
      ]
     },
     "execution_count": 26,
     "metadata": {},
     "output_type": "execute_result"
    }
   ],
   "source": [
    "dimension = hidden_states.shape[-1]\n",
    "index = AnnoyIndex(dimension)\n",
    "for i, v in enumerate(sum_vecs):\n",
    "    index.add_item(i, v)\n",
    "index.build(10)"
   ]
  },
  {
   "cell_type": "code",
   "execution_count": 27,
   "metadata": {},
   "outputs": [
    {
     "name": "stdout",
     "output_type": "stream",
     "text": [
      "Query:  rice with pigeon peas arroz con gandules\n",
      "\n",
      "Search Results:\n"
     ]
    },
    {
     "data": {
      "text/plain": [
       "['brown rice and pigeon peas arroz con gandules',\n",
       " 'brown rice with fried bananas from angola',\n",
       " 'easy sushi rice in rice cooker',\n",
       " 'stir fried rice noodles with black bean sauce',\n",
       " 'coconut lentils and rice arroz con lentejas y coco',\n",
       " 'mock liver pt green beans',\n",
       " 'black eyed peas and tomatoes with sauteed plantains or bananas',\n",
       " 'basmati rice with carrots raisins and spices kabli',\n",
       " 'low fat rice with peas carrots kosher pareve']"
      ]
     },
     "execution_count": 27,
     "metadata": {},
     "output_type": "execute_result"
    }
   ],
   "source": [
    "input_sequence = test_docs[random.randint(0, len(test_docs))]\n",
    "print('Query: ', input_sequence)\n",
    "\n",
    "vec = proc.transform([input_sequence])[:,1:]\n",
    "vec = np.sum(embedding_model.predict(vec), axis=1)\n",
    "ids, _ = index.get_nns_by_vector(vec.T, 10, include_distances=True)\n",
    "\n",
    "print('\\nSearch Results:')\n",
    "[test_docs[i] for i in ids][1:]"
   ]
  },
  {
   "cell_type": "code",
   "execution_count": 28,
   "metadata": {},
   "outputs": [
    {
     "name": "stderr",
     "output_type": "stream",
     "text": [
      "WARNING:root:....tokenizing data\n",
      "WARNING:root:Setting maximum document length to 30 based upon heuristic of 0.95 percentile.\n",
      " See full histogram by insepecting the `document_length_stats` attribute.\n",
      "WARNING:root:(1/2) done. 20 sec\n",
      "WARNING:root:....building corpus\n",
      "WARNING:root:(2/2) done. 1 sec\n",
      "WARNING:root:Finished parsing 231,636 documents.\n",
      "WARNING:root:...fit is finished, beginning transform\n",
      "WARNING:root:...padding data\n",
      "WARNING:root:done. 2 sec\n"
     ]
    }
   ],
   "source": [
    "source_proc = processor(heuristic_pct_padding=.95, keep_n=50000)\n",
    "source_vecs = source_proc.fit_transform(source_docs)"
   ]
  },
  {
   "cell_type": "code",
   "execution_count": 29,
   "metadata": {},
   "outputs": [
    {
     "name": "stderr",
     "output_type": "stream",
     "text": [
      "WARNING:root:....tokenizing data\n",
      "WARNING:root:Setting maximum document length to 10 based upon heuristic of 0.95 percentile.\n",
      " See full histogram by insepecting the `document_length_stats` attribute.\n",
      "WARNING:root:(1/2) done. 6 sec\n",
      "WARNING:root:....building corpus\n",
      "WARNING:root:(2/2) done. 0 sec\n",
      "WARNING:root:Finished parsing 231,636 documents.\n",
      "WARNING:root:...fit is finished, beginning transform\n",
      "WARNING:root:...padding data\n",
      "WARNING:root:done. 1 sec\n"
     ]
    }
   ],
   "source": [
    "target_proc = processor(append_indicators=True, heuristic_pct_padding=.95, keep_n=12000, padding ='post')\n",
    "target_vecs = target_proc.fit_transform(target_docs)"
   ]
  },
  {
   "cell_type": "code",
   "execution_count": null,
   "metadata": {},
   "outputs": [],
   "source": []
  },
  {
   "cell_type": "code",
   "execution_count": 30,
   "metadata": {},
   "outputs": [],
   "source": [
    "encoder_input_data = source_vecs\n",
    "encoder_seq_len = encoder_input_data.shape[1]\n",
    "\n",
    "decoder_input_data = target_vecs[:, :-1]\n",
    "decoder_target_data = target_vecs[:, 1:]\n",
    "\n",
    "num_encoder_tokens = max(source_proc.id2token.keys()) + 1\n",
    "num_decoder_tokens = max(target_proc.id2token.keys()) + 1"
   ]
  },
  {
   "cell_type": "code",
   "execution_count": 31,
   "metadata": {},
   "outputs": [],
   "source": [
    "#Create encoder"
   ]
  },
  {
   "cell_type": "code",
   "execution_count": 32,
   "metadata": {
    "scrolled": true
   },
   "outputs": [],
   "source": [
    "word_emb_dim=512\n",
    "hidden_state_dim=1024\n",
    "encoder_seq_len=encoder_seq_len\n",
    "num_encoder_tokens=num_encoder_tokens\n",
    "num_decoder_tokens=num_decoder_tokens\n",
    "\n",
    "encoder_inputs = Input(shape=(encoder_seq_len,), name='Encoder-Input')\n",
    "x = Embedding(num_encoder_tokens, word_emb_dim, name='Body-Word-Embedding', mask_zero=False)(encoder_inputs)\n",
    "x = BatchNormalization(name='Encoder-Batchnorm-1')(x)\n",
    "_, state_h = GRU(hidden_state_dim, return_state=True, name='Encoder-Last-GRU', dropout=.5)(x)\n",
    "encoder_model = Model(inputs=encoder_inputs, outputs=state_h, name='Encoder-Model')\n",
    "seq2seq_encoder_out = encoder_model(encoder_inputs)"
   ]
  },
  {
   "cell_type": "code",
   "execution_count": 33,
   "metadata": {},
   "outputs": [
    {
     "name": "stdout",
     "output_type": "stream",
     "text": [
      "Model: \"Encoder-Model\"\n",
      "_________________________________________________________________\n",
      "Layer (type)                 Output Shape              Param #   \n",
      "=================================================================\n",
      "Encoder-Input (InputLayer)   [(None, 30)]              0         \n",
      "_________________________________________________________________\n",
      "Body-Word-Embedding (Embeddi (None, 30, 512)           2163712   \n",
      "_________________________________________________________________\n",
      "Encoder-Batchnorm-1 (BatchNo (None, 30, 512)           2048      \n",
      "_________________________________________________________________\n",
      "Encoder-Last-GRU (GRU)       [(None, 1024), (None, 102 4721664   \n",
      "=================================================================\n",
      "Total params: 6,887,424\n",
      "Trainable params: 6,886,400\n",
      "Non-trainable params: 1,024\n",
      "_________________________________________________________________\n"
     ]
    }
   ],
   "source": [
    "encoder_model.summary()"
   ]
  },
  {
   "cell_type": "code",
   "execution_count": 34,
   "metadata": {},
   "outputs": [],
   "source": [
    "decoder_inputs = Input(shape=(None,), name='Decoder-Input')\n",
    "dec_emb = Embedding(num_decoder_tokens, word_emb_dim, name='Decoder-Word-Embedding', mask_zero=False)(decoder_inputs)\n",
    "dec_bn = BatchNormalization(name='Decoder-Batchnorm-1')(dec_emb)\n",
    "decoder_gru = GRU(hidden_state_dim, return_state=True, return_sequences=True, name='Decoder-GRU', dropout=.5)\n",
    "decoder_gru_output, _ = decoder_gru(dec_bn, initial_state=seq2seq_encoder_out)\n",
    "x = BatchNormalization(name='Decoder-Batchnorm-2')(decoder_gru_output)\n",
    "decoder_dense = Dense(num_decoder_tokens, activation='softmax', name='Final-Output-Dense')\n",
    "decoder_outputs = decoder_dense(x)"
   ]
  },
  {
   "cell_type": "code",
   "execution_count": 35,
   "metadata": {},
   "outputs": [],
   "source": [
    "seq2seq_model = Model([encoder_inputs, decoder_inputs], decoder_outputs)"
   ]
  },
  {
   "cell_type": "code",
   "execution_count": 36,
   "metadata": {},
   "outputs": [
    {
     "name": "stdout",
     "output_type": "stream",
     "text": [
      "Model: \"model_2\"\n",
      "__________________________________________________________________________________________________\n",
      "Layer (type)                    Output Shape         Param #     Connected to                     \n",
      "==================================================================================================\n",
      "Decoder-Input (InputLayer)      [(None, None)]       0                                            \n",
      "__________________________________________________________________________________________________\n",
      "Decoder-Word-Embedding (Embeddi (None, None, 512)    6145024     Decoder-Input[0][0]              \n",
      "__________________________________________________________________________________________________\n",
      "Encoder-Input (InputLayer)      [(None, 30)]         0                                            \n",
      "__________________________________________________________________________________________________\n",
      "Decoder-Batchnorm-1 (BatchNorma (None, None, 512)    2048        Decoder-Word-Embedding[0][0]     \n",
      "__________________________________________________________________________________________________\n",
      "Encoder-Model (Model)           (None, 1024)         6887424     Encoder-Input[0][0]              \n",
      "__________________________________________________________________________________________________\n",
      "Decoder-GRU (GRU)               [(None, None, 1024), 4721664     Decoder-Batchnorm-1[0][0]        \n",
      "                                                                 Encoder-Model[1][0]              \n",
      "__________________________________________________________________________________________________\n",
      "Decoder-Batchnorm-2 (BatchNorma (None, None, 1024)   4096        Decoder-GRU[0][0]                \n",
      "__________________________________________________________________________________________________\n",
      "Final-Output-Dense (Dense)      (None, None, 12002)  12302050    Decoder-Batchnorm-2[0][0]        \n",
      "==================================================================================================\n",
      "Total params: 30,062,306\n",
      "Trainable params: 30,058,210\n",
      "Non-trainable params: 4,096\n",
      "__________________________________________________________________________________________________\n"
     ]
    }
   ],
   "source": [
    "seq2seq_model.summary()"
   ]
  },
  {
   "cell_type": "code",
   "execution_count": 37,
   "metadata": {
    "scrolled": true
   },
   "outputs": [
    {
     "name": "stdout",
     "output_type": "stream",
     "text": [
      "Train on 208472 samples, validate on 23164 samples\n",
      "Epoch 1/15\n",
      "208472/208472 [==============================] - 83s 397us/sample - loss: 2.4736 - acc: 0.6144 - val_loss: 7.2896 - val_acc: 0.1561\n",
      "Epoch 2/15\n",
      "208472/208472 [==============================] - 81s 391us/sample - loss: 1.7179 - acc: 0.6753 - val_loss: 2.3309 - val_acc: 0.6334\n",
      "Epoch 3/15\n",
      "208472/208472 [==============================] - 84s 402us/sample - loss: 1.5006 - acc: 0.6946 - val_loss: 2.3253 - val_acc: 0.6398\n",
      "Epoch 4/15\n",
      "208472/208472 [==============================] - 83s 400us/sample - loss: 1.3478 - acc: 0.7106 - val_loss: 2.3679 - val_acc: 0.6393\n",
      "Epoch 5/15\n",
      "208472/208472 [==============================] - 83s 399us/sample - loss: 1.2241 - acc: 0.7261 - val_loss: 2.4192 - val_acc: 0.6403\n",
      "Epoch 6/15\n",
      "208472/208472 [==============================] - 84s 401us/sample - loss: 1.1208 - acc: 0.7410 - val_loss: 2.4903 - val_acc: 0.6370\n",
      "Epoch 7/15\n",
      "208472/208472 [==============================] - 82s 392us/sample - loss: 1.0330 - acc: 0.7545 - val_loss: 2.5489 - val_acc: 0.6374\n",
      "Epoch 8/15\n",
      "208472/208472 [==============================] - 81s 390us/sample - loss: 0.9551 - acc: 0.7674 - val_loss: 2.6205 - val_acc: 0.6361\n",
      "Epoch 9/15\n",
      "208472/208472 [==============================] - 81s 389us/sample - loss: 0.8865 - acc: 0.7793 - val_loss: 2.6769 - val_acc: 0.6351\n",
      "Epoch 10/15\n",
      "208472/208472 [==============================] - 81s 387us/sample - loss: 0.8238 - acc: 0.7903 - val_loss: 2.7416 - val_acc: 0.6316\n",
      "Epoch 11/15\n",
      "208472/208472 [==============================] - 81s 386us/sample - loss: 0.7675 - acc: 0.8011 - val_loss: 2.8197 - val_acc: 0.6314\n",
      "Epoch 12/15\n",
      "208472/208472 [==============================] - 81s 387us/sample - loss: 0.7154 - acc: 0.8110 - val_loss: 2.8864 - val_acc: 0.6315\n",
      "Epoch 13/15\n",
      "208472/208472 [==============================] - 81s 387us/sample - loss: 0.6671 - acc: 0.8209 - val_loss: 2.9637 - val_acc: 0.6284\n",
      "Epoch 14/15\n",
      "208472/208472 [==============================] - 83s 396us/sample - loss: 0.6228 - acc: 0.8297 - val_loss: 3.0207 - val_acc: 0.6275\n",
      "Epoch 15/15\n",
      "208472/208472 [==============================] - 84s 402us/sample - loss: 0.5830 - acc: 0.8383 - val_loss: 3.0948 - val_acc: 0.6271\n"
     ]
    }
   ],
   "source": [
    "batch_size = 512\n",
    "epochs = 15\n",
    "#i upped the learning rate by x10,see how that works, its at 21% acc at epoch 5 elsewise\n",
    "seq2seq_model.compile(optimizer=optimizers.Nadam(lr=0.0005), loss='sparse_categorical_crossentropy', metrics=['accuracy'])\n",
    "history = seq2seq_model.fit([encoder_input_data, decoder_input_data],\n",
    "                            np.expand_dims(decoder_target_data, -1),\n",
    "                            batch_size=batch_size,\n",
    "                            epochs=epochs,\n",
    "                            validation_split=0.1)"
   ]
  },
  {
   "cell_type": "code",
   "execution_count": 38,
   "metadata": {},
   "outputs": [
    {
     "data": {
      "image/png": "[encoded data removed]",
      "text/plain": [
       "<Figure size 432x288 with 1 Axes>"
      ]
     },
     "metadata": {
      "needs_background": "light"
     },
     "output_type": "display_data"
    }
   ],
   "source": [
    "from matplotlib import pyplot as plt\n",
    "plt.plot(history.history['acc'])\n",
    "plt.plot(history.history['val_acc'])\n",
    "plt.title('model accuracy')\n",
    "plt.ylabel('accuracy')\n",
    "plt.xlabel('epoch')\n",
    "plt.legend(['train', 'val'], loc='upper left')\n",
    "plt.show()"
   ]
  },
  {
   "cell_type": "code",
   "execution_count": 39,
   "metadata": {},
   "outputs": [],
   "source": [
    "# !wget https://storage.googleapis.com/kdd-seq2seq-2018/kdd_seq2seq_weights.h5"
   ]
  },
  {
   "cell_type": "code",
   "execution_count": 40,
   "metadata": {},
   "outputs": [],
   "source": [
    "# seq2seq_model.load_weights('kdd_seq2seq_weights.h5')"
   ]
  },
  {
   "cell_type": "code",
   "execution_count": 41,
   "metadata": {},
   "outputs": [],
   "source": [
    "def extract_decoder_model(model):\n",
    "    latent_dim = model.get_layer('Encoder-Model').output_shape[-1]\n",
    "    decoder_inputs = model.get_layer('Decoder-Input').input\n",
    "    dec_emb = model.get_layer('Decoder-Word-Embedding')(decoder_inputs)\n",
    "    dec_bn = model.get_layer('Decoder-Batchnorm-1')(dec_emb)\n",
    "    gru_inference_state_input = Input(shape=(latent_dim,), name='hidden_state_input')\n",
    "    gru_out, gru_state_out = model.get_layer('Decoder-GRU')([dec_bn, gru_inference_state_input])\n",
    "    dec_bn2 = model.get_layer('Decoder-Batchnorm-2')(gru_out)\n",
    "    dense_out = model.get_layer('Final-Output-Dense')(dec_bn2)\n",
    "    decoder_model = Model([decoder_inputs, gru_inference_state_input], [dense_out, gru_state_out])\n",
    "    return decoder_model"
   ]
  },
  {
   "cell_type": "code",
   "execution_count": 42,
   "metadata": {
    "scrolled": true
   },
   "outputs": [
    {
     "name": "stdout",
     "output_type": "stream",
     "text": [
      "Model: \"model_3\"\n",
      "__________________________________________________________________________________________________\n",
      "Layer (type)                    Output Shape         Param #     Connected to                     \n",
      "==================================================================================================\n",
      "Decoder-Input (InputLayer)      [(None, None)]       0                                            \n",
      "__________________________________________________________________________________________________\n",
      "Decoder-Word-Embedding (Embeddi (None, None, 512)    6145024     Decoder-Input[0][0]              \n",
      "__________________________________________________________________________________________________\n",
      "Decoder-Batchnorm-1 (BatchNorma (None, None, 512)    2048        Decoder-Word-Embedding[1][0]     \n",
      "__________________________________________________________________________________________________\n",
      "hidden_state_input (InputLayer) [(None, 1024)]       0                                            \n",
      "__________________________________________________________________________________________________\n",
      "Decoder-GRU (GRU)               [(None, None, 1024), 4721664     Decoder-Batchnorm-1[1][0]        \n",
      "                                                                 hidden_state_input[0][0]         \n",
      "__________________________________________________________________________________________________\n",
      "Decoder-Batchnorm-2 (BatchNorma (None, None, 1024)   4096        Decoder-GRU[1][0]                \n",
      "__________________________________________________________________________________________________\n",
      "Final-Output-Dense (Dense)      (None, None, 12002)  12302050    Decoder-Batchnorm-2[1][0]        \n",
      "==================================================================================================\n",
      "Total params: 23,174,882\n",
      "Trainable params: 23,171,810\n",
      "Non-trainable params: 3,072\n",
      "__________________________________________________________________________________________________\n"
     ]
    }
   ],
   "source": [
    "encoder_model = seq2seq_model.get_layer('Encoder-Model')\n",
    "for layer in encoder_model.layers:\n",
    "    layer.trainable = False\n",
    "\n",
    "decoder_model = extract_decoder_model(seq2seq_model)\n",
    "decoder_model.summary()"
   ]
  },
  {
   "cell_type": "code",
   "execution_count": 43,
   "metadata": {},
   "outputs": [
    {
     "name": "stdout",
     "output_type": "stream",
     "text": [
      "sample code from test set:\n",
      "------------------------\n",
      " dried navy beans, water, onion, bacon, brown sugar, molasses, tomato paste, salt, dry mustard, pepper\n",
      "\n",
      "ground truth:\n",
      "------------------------\n",
      " crock pot baked beans from scratch\n",
      "\n",
      "predicted description:\n",
      "------------------------\n",
      "baked beans in crock pot\n"
     ]
    }
   ],
   "source": [
    "i = random.randint(0, len(test_source_docs))\n",
    "\n",
    "max_len = target_proc.padding_maxlen\n",
    "raw_input_text = test_source_docs[i]\n",
    "\n",
    "raw_tokenized = source_proc.transform([raw_input_text])\n",
    "encoding = encoder_model.predict(raw_tokenized)\n",
    "original_encoding = encoding\n",
    "state_value = np.array(target_proc.token2id['_start_']).reshape(1, 1)\n",
    "\n",
    "decoded_sentence = []\n",
    "stop_condition = False\n",
    "while not stop_condition:\n",
    "    preds, st = decoder_model.predict([state_value, encoding])\n",
    "    pred_idx = np.argmax(preds[:, :, 2:]) + 2\n",
    "    pred_word_str = target_proc.id2token[pred_idx]\n",
    "\n",
    "    if pred_word_str == '_end_' or len(decoded_sentence) >= max_len:\n",
    "        stop_condition = True\n",
    "        break\n",
    "    decoded_sentence.append(pred_word_str)\n",
    "\n",
    "    # update the decoder for the next word\n",
    "    encoding = st\n",
    "    state_value = np.array(pred_idx).reshape(1, 1)\n",
    "\n",
    "print('sample code from test set:\\n------------------------\\n', raw_input_text)\n",
    "print('\\nground truth:\\n------------------------\\n', test_target_docs[i])\n",
    "print('\\npredicted description:\\n------------------------')\n",
    "print(' '.join(decoded_sentence))"
   ]
  },
  {
   "cell_type": "code",
   "execution_count": 44,
   "metadata": {},
   "outputs": [],
   "source": [
    "#generate embeddings"
   ]
  },
  {
   "cell_type": "code",
   "execution_count": 45,
   "metadata": {},
   "outputs": [],
   "source": [
    "train_source_emb = encoder_model.predict(source_proc.transform(source_docs))"
   ]
  },
  {
   "cell_type": "code",
   "execution_count": 46,
   "metadata": {},
   "outputs": [],
   "source": [
    "train_target_vecs = proc.transform(target_docs)\n",
    "hidden_states = embedding_model.predict(train_target_vecs[:, 1:])"
   ]
  },
  {
   "cell_type": "code",
   "execution_count": 47,
   "metadata": {},
   "outputs": [],
   "source": [
    "mean_vecs = np.mean(hidden_states, axis=1)\n",
    "max_vecs = np.max(hidden_states, axis=1)\n",
    "sum_vecs = np.sum(hidden_states, axis=1)\n",
    "# train_target_emb = mean_vecs\n",
    "train_target_emb = max_vecs"
   ]
  },
  {
   "cell_type": "code",
   "execution_count": 48,
   "metadata": {},
   "outputs": [
    {
     "name": "stdout",
     "output_type": "stream",
     "text": [
      "source embedding shape on training set:  (231636, 1024)\n",
      "target embedding shape on training set:  (231636, 256)\n"
     ]
    }
   ],
   "source": [
    "print('source embedding shape on training set: ', train_source_emb.shape)\n",
    "print('target embedding shape on training set: ', train_target_emb.shape)"
   ]
  },
  {
   "cell_type": "code",
   "execution_count": 49,
   "metadata": {},
   "outputs": [
    {
     "name": "stderr",
     "output_type": "stream",
     "text": [
      "/opt/conda/lib/python3.7/site-packages/ipykernel_launcher.py:2: FutureWarning: The default argument for metric will be removed in future version of Annoy. Please pass metric='angular' explicitly.\n",
      "  \n"
     ]
    },
    {
     "data": {
      "text/plain": [
       "True"
      ]
     },
     "execution_count": 49,
     "metadata": {},
     "output_type": "execute_result"
    }
   ],
   "source": [
    "dimension = hidden_states.shape[-1]\n",
    "index = AnnoyIndex(dimension)\n",
    "for i, v in enumerate(sum_vecs):\n",
    "    index.add_item(i, v)\n",
    "index.build(10)"
   ]
  },
  {
   "cell_type": "code",
   "execution_count": 50,
   "metadata": {},
   "outputs": [],
   "source": [
    "#create joint vector space for embeddings"
   ]
  },
  {
   "cell_type": "code",
   "execution_count": 51,
   "metadata": {},
   "outputs": [
    {
     "name": "stdout",
     "output_type": "stream",
     "text": [
      "Model: \"model_4\"\n",
      "_________________________________________________________________\n",
      "Layer (type)                 Output Shape              Param #   \n",
      "=================================================================\n",
      "input_2 (InputLayer)         [(None, 1024)]            0         \n",
      "_________________________________________________________________\n",
      "dense_1 (Dense)              (None, 256)               262144    \n",
      "=================================================================\n",
      "Total params: 262,144\n",
      "Trainable params: 262,144\n",
      "Non-trainable params: 0\n",
      "_________________________________________________________________\n"
     ]
    }
   ],
   "source": [
    "inp = Input(shape=(train_source_emb.shape[1],))\n",
    "x = Dense(train_target_emb.shape[1], use_bias=False)(inp)\n",
    "# x = BatchNormalization()(x)\n",
    "# x = Dense(train_target_emb.shape[1])(x)\n",
    "modal_model = Model([inp], x)\n",
    "modal_model.summary()"
   ]
  },
  {
   "cell_type": "code",
   "execution_count": 52,
   "metadata": {
    "scrolled": true
   },
   "outputs": [
    {
     "name": "stdout",
     "output_type": "stream",
     "text": [
      "Train on 208472 samples, validate on 23164 samples\n",
      "Epoch 1/50\n",
      "208472/208472 [==============================] - 3s 16us/sample - loss: -0.8018 - acc: 9.5936e-06 - val_loss: -0.8155 - val_acc: 0.0000e+00\n",
      "Epoch 2/50\n",
      "208472/208472 [==============================] - 3s 16us/sample - loss: -0.8272 - acc: 9.5936e-06 - val_loss: -0.8179 - val_acc: 0.0000e+00\n",
      "Epoch 3/50\n",
      "208472/208472 [==============================] - 3s 15us/sample - loss: -0.8300 - acc: 2.3984e-05 - val_loss: -0.8186 - val_acc: 0.0000e+00\n",
      "Epoch 4/50\n",
      "208472/208472 [==============================] - 3s 14us/sample - loss: -0.8314 - acc: 1.9187e-05 - val_loss: -0.8190 - val_acc: 0.0000e+00\n",
      "Epoch 5/50\n",
      "208472/208472 [==============================] - 3s 15us/sample - loss: -0.8323 - acc: 4.7968e-06 - val_loss: -0.8191 - val_acc: 4.3170e-05\n",
      "Epoch 6/50\n",
      "208472/208472 [==============================] - 3s 15us/sample - loss: -0.8328 - acc: 9.5936e-06 - val_loss: -0.8191 - val_acc: 8.6341e-05\n",
      "Epoch 7/50\n",
      "208472/208472 [==============================] - 3s 14us/sample - loss: -0.8332 - acc: 9.5936e-06 - val_loss: -0.8192 - val_acc: 8.6341e-05\n",
      "Epoch 8/50\n",
      "208472/208472 [==============================] - 3s 16us/sample - loss: -0.8335 - acc: 3.3578e-05 - val_loss: -0.8190 - val_acc: 0.0000e+00\n",
      "Epoch 9/50\n",
      "208472/208472 [==============================] - 3s 15us/sample - loss: -0.8337 - acc: 3.3578e-05 - val_loss: -0.8192 - val_acc: 8.6341e-05\n",
      "Epoch 10/50\n",
      "208472/208472 [==============================] - 3s 15us/sample - loss: -0.8338 - acc: 5.2765e-05 - val_loss: -0.8192 - val_acc: 4.3170e-05\n",
      "Epoch 11/50\n",
      "208472/208472 [==============================] - 3s 15us/sample - loss: -0.8339 - acc: 3.3578e-05 - val_loss: -0.8191 - val_acc: 8.6341e-05\n",
      "Epoch 12/50\n",
      "208472/208472 [==============================] - 3s 14us/sample - loss: -0.8340 - acc: 2.3984e-05 - val_loss: -0.8192 - val_acc: 4.3170e-05\n",
      "Epoch 13/50\n",
      "208472/208472 [==============================] - 3s 15us/sample - loss: -0.8340 - acc: 3.3578e-05 - val_loss: -0.8191 - val_acc: 4.3170e-05\n",
      "Epoch 14/50\n",
      "208472/208472 [==============================] - 3s 14us/sample - loss: -0.8341 - acc: 5.7562e-05 - val_loss: -0.8193 - val_acc: 1.2951e-04\n",
      "Epoch 15/50\n",
      "208472/208472 [==============================] - 3s 12us/sample - loss: -0.8341 - acc: 3.3578e-05 - val_loss: -0.8193 - val_acc: 8.6341e-05\n",
      "Epoch 16/50\n",
      "208472/208472 [==============================] - 3s 15us/sample - loss: -0.8342 - acc: 3.3578e-05 - val_loss: -0.8194 - val_acc: 8.6341e-05\n",
      "Epoch 17/50\n",
      "208472/208472 [==============================] - 3s 14us/sample - loss: -0.8343 - acc: 4.7968e-05 - val_loss: -0.8194 - val_acc: 1.2951e-04\n",
      "Epoch 18/50\n",
      "208472/208472 [==============================] - 3s 16us/sample - loss: -0.8343 - acc: 3.3578e-05 - val_loss: -0.8193 - val_acc: 4.3170e-05\n",
      "Epoch 19/50\n",
      "208472/208472 [==============================] - 3s 15us/sample - loss: -0.8344 - acc: 3.8374e-05 - val_loss: -0.8192 - val_acc: 1.2951e-04\n",
      "Epoch 20/50\n",
      "208472/208472 [==============================] - 3s 15us/sample - loss: -0.8344 - acc: 3.8374e-05 - val_loss: -0.8194 - val_acc: 8.6341e-05\n",
      "Epoch 21/50\n",
      "208472/208472 [==============================] - 3s 15us/sample - loss: -0.8345 - acc: 2.3984e-05 - val_loss: -0.8194 - val_acc: 4.3170e-05\n",
      "Epoch 22/50\n",
      "208472/208472 [==============================] - 3s 14us/sample - loss: -0.8345 - acc: 4.7968e-05 - val_loss: -0.8193 - val_acc: 8.6341e-05\n",
      "Epoch 23/50\n",
      "208472/208472 [==============================] - 3s 15us/sample - loss: -0.8346 - acc: 4.7968e-05 - val_loss: -0.8197 - val_acc: 1.2951e-04\n",
      "Epoch 24/50\n",
      "208472/208472 [==============================] - 3s 15us/sample - loss: -0.8346 - acc: 2.8781e-05 - val_loss: -0.8196 - val_acc: 4.3170e-05\n",
      "Epoch 25/50\n",
      "208472/208472 [==============================] - 3s 15us/sample - loss: -0.8347 - acc: 3.3578e-05 - val_loss: -0.8197 - val_acc: 1.2951e-04\n",
      "Epoch 26/50\n",
      "208472/208472 [==============================] - 3s 15us/sample - loss: -0.8348 - acc: 3.3578e-05 - val_loss: -0.8197 - val_acc: 4.3170e-05\n",
      "Epoch 27/50\n",
      "208472/208472 [==============================] - 3s 15us/sample - loss: -0.8348 - acc: 4.3171e-05 - val_loss: -0.8197 - val_acc: 8.6341e-05\n",
      "Epoch 28/50\n",
      "208472/208472 [==============================] - 3s 14us/sample - loss: -0.8349 - acc: 3.8374e-05 - val_loss: -0.8196 - val_acc: 8.6341e-05\n",
      "Epoch 29/50\n",
      "208472/208472 [==============================] - 3s 15us/sample - loss: -0.8349 - acc: 3.8374e-05 - val_loss: -0.8198 - val_acc: 8.6341e-05\n",
      "Epoch 30/50\n",
      "208472/208472 [==============================] - 3s 14us/sample - loss: -0.8350 - acc: 4.7968e-05 - val_loss: -0.8196 - val_acc: 1.2951e-04\n",
      "Epoch 31/50\n",
      "208472/208472 [==============================] - 3s 14us/sample - loss: -0.8350 - acc: 4.3171e-05 - val_loss: -0.8196 - val_acc: 1.2951e-04\n",
      "Epoch 32/50\n",
      "208472/208472 [==============================] - 3s 15us/sample - loss: -0.8350 - acc: 3.8374e-05 - val_loss: -0.8198 - val_acc: 1.2951e-04\n",
      "Epoch 33/50\n",
      "208472/208472 [==============================] - 3s 15us/sample - loss: -0.8351 - acc: 5.2765e-05 - val_loss: -0.8197 - val_acc: 8.6341e-05\n",
      "Epoch 34/50\n",
      "208472/208472 [==============================] - 3s 15us/sample - loss: -0.8351 - acc: 5.2765e-05 - val_loss: -0.8196 - val_acc: 1.2951e-04\n",
      "Epoch 35/50\n",
      "208472/208472 [==============================] - 3s 15us/sample - loss: -0.8352 - acc: 4.7968e-05 - val_loss: -0.8199 - val_acc: 8.6341e-05\n",
      "Epoch 36/50\n",
      "208472/208472 [==============================] - 3s 15us/sample - loss: -0.8352 - acc: 4.7968e-05 - val_loss: -0.8197 - val_acc: 4.3170e-05\n",
      "Epoch 37/50\n",
      "208472/208472 [==============================] - 3s 15us/sample - loss: -0.8352 - acc: 4.7968e-05 - val_loss: -0.8197 - val_acc: 8.6341e-05\n",
      "Epoch 38/50\n",
      "208472/208472 [==============================] - 3s 15us/sample - loss: -0.8353 - acc: 4.3171e-05 - val_loss: -0.8197 - val_acc: 4.3170e-05\n",
      "Epoch 39/50\n",
      "208472/208472 [==============================] - 3s 15us/sample - loss: -0.8353 - acc: 3.8374e-05 - val_loss: -0.8197 - val_acc: 4.3170e-05\n",
      "Epoch 40/50\n",
      "208472/208472 [==============================] - 3s 15us/sample - loss: -0.8353 - acc: 3.8374e-05 - val_loss: -0.8197 - val_acc: 8.6341e-05\n",
      "Epoch 41/50\n",
      "208472/208472 [==============================] - 3s 14us/sample - loss: -0.8353 - acc: 4.3171e-05 - val_loss: -0.8196 - val_acc: 8.6341e-05\n",
      "Epoch 42/50\n",
      "208472/208472 [==============================] - 3s 14us/sample - loss: -0.8354 - acc: 3.8374e-05 - val_loss: -0.8197 - val_acc: 1.2951e-04\n",
      "Epoch 43/50\n",
      "208472/208472 [==============================] - 3s 14us/sample - loss: -0.8354 - acc: 4.3171e-05 - val_loss: -0.8197 - val_acc: 8.6341e-05\n",
      "Epoch 44/50\n",
      "208472/208472 [==============================] - 3s 14us/sample - loss: -0.8354 - acc: 5.2765e-05 - val_loss: -0.8197 - val_acc: 8.6341e-05\n",
      "Epoch 45/50\n",
      "208472/208472 [==============================] - 3s 14us/sample - loss: -0.8354 - acc: 3.8374e-05 - val_loss: -0.8199 - val_acc: 8.6341e-05\n",
      "Epoch 46/50\n",
      "208472/208472 [==============================] - 3s 15us/sample - loss: -0.8354 - acc: 2.8781e-05 - val_loss: -0.8196 - val_acc: 8.6341e-05\n",
      "Epoch 47/50\n",
      "208472/208472 [==============================] - 3s 14us/sample - loss: -0.8355 - acc: 4.7968e-05 - val_loss: -0.8198 - val_acc: 1.2951e-04\n",
      "Epoch 48/50\n",
      "208472/208472 [==============================] - 3s 14us/sample - loss: -0.8355 - acc: 3.8374e-05 - val_loss: -0.8198 - val_acc: 8.6341e-05\n",
      "Epoch 49/50\n",
      "208472/208472 [==============================] - 3s 14us/sample - loss: -0.8355 - acc: 4.3171e-05 - val_loss: -0.8197 - val_acc: 4.3170e-05\n",
      "Epoch 50/50\n",
      "208472/208472 [==============================] - 3s 14us/sample - loss: -0.8355 - acc: 4.7968e-05 - val_loss: -0.8198 - val_acc: 1.2951e-04\n"
     ]
    }
   ],
   "source": [
    "modal_model.compile(optimizer=optimizers.Nadam(lr=2), loss='cosine_proximity', metrics=['accuracy'])\n",
    "\n",
    "batch_size = 512\n",
    "epochs = 50\n",
    "history = modal_model.fit([train_source_emb], train_target_emb,\n",
    "                          batch_size=batch_size, epochs=epochs, validation_split=0.1)"
   ]
  },
  {
   "cell_type": "code",
   "execution_count": 53,
   "metadata": {},
   "outputs": [
    {
     "data": {
      "image/png": "[encoded data removed]",
      "text/plain": [
       "<Figure size 432x288 with 1 Axes>"
      ]
     },
     "metadata": {
      "needs_background": "light"
     },
     "output_type": "display_data"
    }
   ],
   "source": [
    "from matplotlib import pyplot as plt\n",
    "plt.plot(history.history['acc'])\n",
    "plt.plot(history.history['val_acc'])\n",
    "plt.title('model accuracy')\n",
    "plt.ylabel('accuracy')\n",
    "plt.xlabel('epoch')\n",
    "plt.legend(['train', 'val'], loc='upper left')\n",
    "plt.show()"
   ]
  },
  {
   "cell_type": "code",
   "execution_count": 54,
   "metadata": {},
   "outputs": [
    {
     "data": {
      "text/plain": [
       "(231636, 256)"
      ]
     },
     "execution_count": 54,
     "metadata": {},
     "output_type": "execute_result"
    }
   ],
   "source": [
    "vec_code = modal_model.predict(encoder_model.predict(source_proc.transform(source_docs)))\n",
    "vec_code.shape"
   ]
  },
  {
   "cell_type": "code",
   "execution_count": 55,
   "metadata": {},
   "outputs": [
    {
     "name": "stderr",
     "output_type": "stream",
     "text": [
      "/opt/conda/lib/python3.7/site-packages/ipykernel_launcher.py:3: FutureWarning: The default argument for metric will be removed in future version of Annoy. Please pass metric='angular' explicitly.\n",
      "  This is separate from the ipykernel package so we can avoid doing imports until\n"
     ]
    },
    {
     "data": {
      "text/plain": [
       "True"
      ]
     },
     "execution_count": 55,
     "metadata": {},
     "output_type": "execute_result"
    }
   ],
   "source": [
    "#all code in a search box\n",
    "dimension = vec_code.shape[-1]\n",
    "index = AnnoyIndex(dimension)\n",
    "for i, v in enumerate(vec_code):\n",
    "    index.add_item(i, v)\n",
    "index.build(10)"
   ]
  },
  {
   "cell_type": "code",
   "execution_count": 56,
   "metadata": {},
   "outputs": [],
   "source": [
    "def vectorize_string(txt):\n",
    "  vec = proc.transform([txt])[:,1:]\n",
    "  emb = np.mean(embedding_model.predict(vec), axis=1)\n",
    "  return emb"
   ]
  },
  {
   "cell_type": "code",
   "execution_count": 57,
   "metadata": {},
   "outputs": [],
   "source": [
    "def search(inp):\n",
    "  inp = vectorize_string(inp)\n",
    "  ids, dist = index.get_nns_by_vector(inp.squeeze(), 5, include_distances=True)\n",
    "\n",
    "  for i, dist in zip(ids, dist):\n",
    "    print(f'dist: {dist:.2f}\\n{source_docs[i]}\\n')"
   ]
  },
  {
   "cell_type": "code",
   "execution_count": 58,
   "metadata": {
    "scrolled": true
   },
   "outputs": [],
   "source": [
    "# search('read csv file into pandas dataframe')"
   ]
  },
  {
   "cell_type": "code",
   "execution_count": 59,
   "metadata": {},
   "outputs": [
    {
     "name": "stdout",
     "output_type": "stream",
     "text": [
      "dist: 1.56\n",
      "cake flour, bread flour, baking soda, baking powder, kosher salt, unsalted butter, light brown sugar, granulated sugar, eggs, pure vanilla extract, bittersweet chocolate chips, salt\n",
      "\n",
      "dist: 1.57\n",
      "flour, cocoa, baking powder, baking soda, butter, shortening, sugar, brown sugar, eggs, vanilla, chocolate chips, peanut butter\n",
      "\n",
      "dist: 1.57\n",
      "all-purpose flour, whole wheat flour, baking soda, cinnamon, salt, unsalted butter, unsweetened applesauce, honey, dark brown sugar, granulated sugar, peanut butter, egg, vanilla extract, semi-sweet chocolate chips\n",
      "\n",
      "dist: 1.57\n",
      "cake flour, bread flour, baking soda, baking powder, coarse salt, unsalted butter, light brown sugar, granulated sugar, eggs, vanilla extract, bittersweet chocolate, sea salt\n",
      "\n",
      "dist: 1.57\n",
      "gluten-free flour, xanthan gum, baking soda, salt, cocoa powder, butter, crisco, brown sugar, sugar, vanilla, eggs, mint chips\n",
      "\n"
     ]
    }
   ],
   "source": [
    " search('chicken pot pie')"
   ]
  },
  {
   "cell_type": "code",
   "execution_count": 60,
   "metadata": {},
   "outputs": [
    {
     "name": "stdout",
     "output_type": "stream",
     "text": [
      "dist: 1.49\n",
      "butter, all-purpose flour, milk, chicken broth, mozzarella cheese, parmesan cheese, salt, fresh ground pepper, pasta, broccoli florets, cooked chicken, blue cheese\n",
      "\n",
      "dist: 1.49\n",
      "penne pasta, alfredo sauce, cheese, broccoli, boneless skinless chicken breasts\n",
      "\n",
      "dist: 1.50\n",
      "boneless skinless chicken breasts, penne pasta, frozen broccoli, mozzarella cheese, alfredo sauce, salt and pepper\n",
      "\n",
      "dist: 1.50\n",
      "fettuccine, broccoli, butter, boneless skinless chicken breast, condensed cream of mushroom soup, milk, parmesan cheese, fresh ground pepper\n",
      "\n",
      "dist: 1.50\n",
      "olive oil, boneless chicken breasts, garlic cloves, salt and pepper, broccoli florets, ziti pasta, half-and-half, fresh parmesan cheese, unsalted butter, dried red pepper flakes, water\n",
      "\n"
     ]
    }
   ],
   "source": [
    " search('iced tea')"
   ]
  },
  {
   "cell_type": "code",
   "execution_count": 61,
   "metadata": {},
   "outputs": [
    {
     "name": "stdout",
     "output_type": "stream",
     "text": [
      "dist: 1.47\n",
      "olive oil, asparagus spear, salt, pepper, orzo pasta, fresh parsley, unsalted butter, jumbo shrimp, garlic, fresh lemon juice, black pepper\n",
      "\n",
      "dist: 1.47\n",
      "pasta, olive oil, butter, shallots, asparagus, garlic, fresh dill, medium shrimp, extra virgin olive oil, salt, fresh ground black pepper\n",
      "\n",
      "dist: 1.47\n",
      "jumbo shrimp, salt & freshly ground black pepper, olive oil, fennel bulb, garlic cloves, crushed red pepper flakes, orzo pasta, chickpeas, cherry tomatoes, kalamata olive, dill, lemon, zest of, dry white wine, low sodium chicken broth, feta\n",
      "\n",
      "dist: 1.47\n",
      "potatoes, extra virgin olive oil, kosher salt, cayenne pepper, shrimp, lemon zest, black pepper, garlic cloves, prosciutto, parsley\n",
      "\n",
      "dist: 1.48\n",
      "fusilli, olive oil, garlic clove, fresh spinach, asparagus, asiago cheese, parmesan cheese, salt, fresh ground black pepper\n",
      "\n"
     ]
    }
   ],
   "source": [
    " search('chocolate chip cookie')"
   ]
  },
  {
   "cell_type": "code",
   "execution_count": null,
   "metadata": {},
   "outputs": [],
   "source": []
  }
 ],
 "metadata": {
  "kernelspec": {
   "display_name": "Python 3",
   "language": "python",
   "name": "python3"
  },
  "language_info": {
   "codemirror_mode": {
    "name": "ipython",
    "version": 3
   },
   "file_extension": ".py",
   "mimetype": "text/x-python",
   "name": "python",
   "nbconvert_exporter": "python",
   "pygments_lexer": "ipython3",
   "version": "3.7.3"
  }
 },
 "nbformat": 4,
 "nbformat_minor": 2
}
